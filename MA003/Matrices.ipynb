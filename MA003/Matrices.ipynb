{
  "nbformat": 4,
  "nbformat_minor": 0,
  "metadata": {
    "colab": {
      "provenance": [],
      "authorship_tag": "ABX9TyNExsztDIl3kxzmYK5uH2BZ",
      "include_colab_link": true
    },
    "kernelspec": {
      "name": "python3",
      "display_name": "Python 3"
    },
    "language_info": {
      "name": "python"
    }
  },
  "cells": [
    {
      "cell_type": "markdown",
      "metadata": {
        "id": "view-in-github",
        "colab_type": "text"
      },
      "source": [
        "<a href=\"https://colab.research.google.com/github/khoaht312/UIT-PREMASTER/blob/main/MA003/Matrices.ipynb\" target=\"_parent\"><img src=\"https://colab.research.google.com/assets/colab-badge.svg\" alt=\"Open In Colab\"/></a>"
      ]
    },
    {
      "cell_type": "markdown",
      "source": [
        "**Đại số tuyến tính** (Linear Algebra)\n",
        "- C1: Ma trận - Định thức\n",
        "- C2: Hệ phương trình tuyến tính\n",
        "- C3: Không gian vector\n",
        "- C4: Ánh xạ tuyến tính\n",
        "- C5: Không gian Euclide\n",
        "- C6: Chéo hóa ma trận\n",
        "- C7: Dạng song tuyến tính và dạng toàn phương"
      ],
      "metadata": {
        "id": "pwakD_yS7UKH"
      }
    },
    {
      "cell_type": "markdown",
      "source": [
        "## **Ma trận**\n",
        "Cho các số nguyên dương $m,n$. Ta gọi một ma trận thực cỡ $m$ x $n$ là tập hợp gồm $mn$ hệ số thực được xếp thành bảng gồm $m$ hàng và $n$ cột:\n",
        "\n",
        "\n",
        "$$\n",
        "\\left(\\begin{array}{cc}\n",
        "a_{11} & a_{12} & ... & a_{1n}\\\\\n",
        "a_{21} & a_{22} & ... & a_{2n}\\\\\n",
        "a_{m1} & a_{m2} & ... & a_{mn}\\\\\n",
        "\\end{array}\\right)\n",
        "$$\n",
        "\n",
        "Hệ số $a_{ij}$ đứng ở hàng thứ $i$ và coojt thứ $j$ trong $A$ gọi là hệ số $(i,j)$ của ma trận $A$.\n",
        "\n",
        "Hàng thứ $i$ trong ma trận $A$ bao gồm các hệ số chỉ có số thứ nhất bằng $i$, ký hiệu $h_iA=(a_{i1} \\ a_{i2} \\ ... \\ a_{in}) $.\n",
        "\n",
        "Cột thứ $j$ trong $A$ bao gồm các hệ số chỉ có số thứ hai bằng $j$, ký hiệu:\n",
        "\n",
        "$$\n",
        "\\left(\\begin{array}{cc}\n",
        "a_{j1} \\\\\n",
        "a_{j1}\\\\\n",
        "a_{jn}\\\\\n",
        "\\end{array}\\right)\n",
        "$$\n",
        "\n",
        "Tập hợp tất cả các ma trận cỡ $m$ x $n$ được ký hiệu: $M_{mxn}(R)$.\n",
        "\n",
        "Ma trận có $n$ hàng và $n$ cột được gọi là ma trận vuông cấp $n$. Tập hợp các hệ số đường chéo của được gọi là đường chéo của ma trận.\n",
        "\n",
        "**Ma trận tam giác trên (dưới)**:\n",
        "\n",
        "$$\n",
        "\\left(\\begin{array}{cc}\n",
        "* & * & * & *\\\\\n",
        "0 & * & * & *\\\\\n",
        "0 & 0 & * & *\\\\\n",
        "0 & 0 & 0 & *\\\\\n",
        "\\end{array}\\right)\n",
        "$$\n",
        "\n",
        "*Ma trận tam giác trên*\n",
        "\n",
        "$$\n",
        "\\left(\\begin{array}{cc}\n",
        "* & 0 & 0 & 0\\\\\n",
        "* & * & 0 & 0\\\\\n",
        "* & * & * & 0\\\\\n",
        "* & * & * & *\\\\\n",
        "\\end{array}\\right)\n",
        "$$\n",
        "\n",
        "*Ma trận tam giác dưới*\n",
        "\n",
        "**Ma trận đường chéo**: Các giá trị ngoài đường chéo bằng 0 (Vừa là ma trận tam giác trên và dưới).\n",
        "\n",
        "$$\n",
        "\\left(\\begin{array}{cc}\n",
        "d_{11} & 0 & 0 & 0\\\\\n",
        "0 & d_{22} & 0 & 0\\\\\n",
        "0 & 0 & d_{33} & 0\\\\\n",
        "0 & 0 & 0 & d_{44}\\\\\n",
        "\\end{array}\\right)\n",
        "$$\n",
        "\n",
        "**Ma trận đơn vị**: Ma trận chéo có mọi hệ số đường chéo bằng 1.\n",
        "\n",
        "$$\n",
        "\\left(\\begin{array}{cc}\n",
        "1 & 0 & 0 & 0\\\\\n",
        "0 & 1 & 0 & 0\\\\\n",
        "0 & 0 & 1 & 0\\\\\n",
        "0 & 0 & 0 & 1\\\\\n",
        "\\end{array}\\right)\n",
        "$$\n",
        "\n",
        "## **Các phép toán trên ma trận**\n",
        "\n"
      ],
      "metadata": {
        "id": "mBmCBLb98G1s"
      }
    }
  ]
}