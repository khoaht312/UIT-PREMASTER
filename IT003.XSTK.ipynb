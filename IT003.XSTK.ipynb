{
  "nbformat": 4,
  "nbformat_minor": 0,
  "metadata": {
    "colab": {
      "provenance": [],
      "authorship_tag": "ABX9TyPcMtErYBA+wk4peXleZ39/"
    },
    "kernelspec": {
      "name": "python3",
      "display_name": "Python 3"
    },
    "language_info": {
      "name": "python"
    }
  },
  "cells": [
    {
      "cell_type": "markdown",
      "source": [
        "**Linear Search**: Duyệt từng phần tử trong danh sách cho đến khi tìm thấy phần tử cần tìm hoặc hết danh sách."
      ],
      "metadata": {
        "id": "NeaRCI39Cl3J"
      }
    },
    {
      "cell_type": "code",
      "execution_count": 51,
      "metadata": {
        "colab": {
          "base_uri": "https://localhost:8080/"
        },
        "id": "fQ0rxQG3OA-D",
        "outputId": "f61df908-a9ed-41fe-df1b-82abd75750a6"
      },
      "outputs": [
        {
          "output_type": "stream",
          "name": "stdout",
          "text": [
            "Iteration 1\n",
            "Iteration 2\n",
            "Iteration 3\n",
            "Iteration 4\n",
            "Iteration 5\n",
            "Iteration 6\n",
            "Iteration 7\n",
            "Iteration 8\n",
            "Iteration 9\n",
            "Iteration 10\n",
            "9\n"
          ]
        }
      ],
      "source": [
        "def linear_search(arr, target):\n",
        "  for i in range(len(arr)):\n",
        "    print(f\"Iteration {i + 1}\")\n",
        "    if arr[i] == target:\n",
        "      return i\n",
        "  return -1 #Found Dead\n",
        "\n",
        "print(linear_search([1,2,3,4,5,6,7,8,9,10],10))"
      ]
    },
    {
      "cell_type": "markdown",
      "source": [
        "**Binary Search**: Áp dụng cho danh sách đã được sắp xếp. So sánh phần tử ở giữa với phần tử cần tìm và loại bỏ nửa danh sách không cần thiết."
      ],
      "metadata": {
        "id": "DDTby1PbDTy-"
      }
    },
    {
      "cell_type": "code",
      "source": [
        "def binary_search(arr, target):\n",
        "    low = 0\n",
        "    high = len(arr) - 1\n",
        "    c =  1\n",
        "    while low <= high:\n",
        "        print(f\"Iteration {c}\")\n",
        "        c += 1\n",
        "        mid = (low + high) // 2\n",
        "        print(f\"low: {low}, high: {high}, mid: {mid}\")\n",
        "        if arr[mid] == target:\n",
        "            return mid\n",
        "        elif arr[mid] < target:\n",
        "            low = mid + 1\n",
        "        else:\n",
        "            high = mid - 1\n",
        "    return -1\n",
        "\n",
        "\n",
        "print(binary_search([1,2,3,4,5,6,7,8,9,10],10))"
      ],
      "metadata": {
        "colab": {
          "base_uri": "https://localhost:8080/"
        },
        "id": "ATQgLGFmDXF1",
        "outputId": "8acdfb39-dce6-4732-a25d-e503c84669a8"
      },
      "execution_count": 54,
      "outputs": [
        {
          "output_type": "stream",
          "name": "stdout",
          "text": [
            "Iteration 1\n",
            "low: 0, high: 9, mid: 4\n",
            "Iteration 2\n",
            "low: 5, high: 9, mid: 7\n",
            "Iteration 3\n",
            "low: 8, high: 9, mid: 8\n",
            "Iteration 4\n",
            "low: 9, high: 9, mid: 9\n",
            "9\n"
          ]
        }
      ]
    },
    {
      "cell_type": "markdown",
      "source": [
        "**Selection Sort**: Lựa chọn phần tử nhỏ nhất và đổi chỗ với phần tử đầu danh sách chưa được sắp xếp."
      ],
      "metadata": {
        "id": "lTU8tGAXFH_Q"
      }
    },
    {
      "cell_type": "code",
      "source": [
        "def selection_sort(arr):\n",
        "    n = len(arr)\n",
        "    for i in range(n):\n",
        "        min_idx = i\n",
        "        for j in range(i + 1, n):\n",
        "            if arr[j] < arr[min_idx]:\n",
        "                min_idx = j\n",
        "        arr[i], arr[min_idx] = arr[min_idx], arr[i]\n",
        "        print(\"Swap: {} and {}\".format(arr[i],arr[min_idx]))\n",
        "\n",
        "        print(f\"Iteration {i + 1}: {arr}\")\n",
        "\n",
        "# Ví dụ với một mảng arr\n",
        "arr = [5,4,11,4,2,1]\n",
        "print(\"Original array:\", arr)\n",
        "selection_sort(arr)\n",
        "print(\"Sorted array:\", arr)\n"
      ],
      "metadata": {
        "colab": {
          "base_uri": "https://localhost:8080/"
        },
        "id": "wwdZhYpxFKNa",
        "outputId": "8cfac328-3dfa-4477-f17d-9dd4abfc0aca"
      },
      "execution_count": 48,
      "outputs": [
        {
          "output_type": "stream",
          "name": "stdout",
          "text": [
            "Original array: [5, 4, 11, 4, 2, 1]\n",
            "Swap: 1 and 5\n",
            "Iteration 1: [1, 4, 11, 4, 2, 5]\n",
            "Swap: 2 and 4\n",
            "Iteration 2: [1, 2, 11, 4, 4, 5]\n",
            "Swap: 4 and 11\n",
            "Iteration 3: [1, 2, 4, 11, 4, 5]\n",
            "Swap: 4 and 11\n",
            "Iteration 4: [1, 2, 4, 4, 11, 5]\n",
            "Swap: 5 and 11\n",
            "Iteration 5: [1, 2, 4, 4, 5, 11]\n",
            "Swap: 11 and 11\n",
            "Iteration 6: [1, 2, 4, 4, 5, 11]\n",
            "Sorted array: [1, 2, 4, 4, 5, 11]\n"
          ]
        }
      ]
    },
    {
      "cell_type": "markdown",
      "source": [
        "**Quick Sort**: Chia danh sách thành các phần nhỏ dựa trên một phần tử pivot, sắp xếp các phần nhỏ đó và kết hợp chúng lại."
      ],
      "metadata": {
        "id": "IAVnSCPYG59k"
      }
    },
    {
      "cell_type": "code",
      "source": [
        "def partition(arr, low, high):\n",
        "    pivot = arr[high]\n",
        "    i = low - 1\n",
        "    for j in range(low, high):\n",
        "        if arr[j] < pivot:\n",
        "            i += 1\n",
        "            arr[i], arr[j] = arr[j], arr[i]\n",
        "    arr[i + 1], arr[high] = arr[high], arr[i + 1]\n",
        "    return i + 1\n",
        "\n",
        "def quick_sort(arr, low, high):\n",
        "    if low < high:\n",
        "        pi = partition(arr, low, high)\n",
        "        print(f\"Pivot: {arr[pi]}\")\n",
        "        print(f\"Left Sub-array: {arr[low:pi]}\")\n",
        "        print(f\"Right Sub-array: {arr[pi+1:high+1]}\")\n",
        "        quick_sort(arr, low, pi - 1)\n",
        "        quick_sort(arr, pi + 1, high)\n",
        "\n",
        "def quicksort(arr):\n",
        "    quick_sort(arr, 0, len(arr) - 1)\n",
        "    return arr\n",
        "\n",
        "result = quicksort([10, 9, 8, 7, 6, 5])\n",
        "print(\"Sorted array:\", result)\n"
      ],
      "metadata": {
        "colab": {
          "base_uri": "https://localhost:8080/"
        },
        "id": "2tGLJvoXF_iq",
        "outputId": "b1aa9229-cf4a-4665-8dae-f21da64ca312"
      },
      "execution_count": 43,
      "outputs": [
        {
          "output_type": "stream",
          "name": "stdout",
          "text": [
            "Pivot: 5\n",
            "Left Sub-array: []\n",
            "Right Sub-array: [9, 8, 7, 6, 10]\n",
            "Pivot: 10\n",
            "Left Sub-array: [9, 8, 7, 6]\n",
            "Right Sub-array: []\n",
            "Pivot: 6\n",
            "Left Sub-array: []\n",
            "Right Sub-array: [8, 7, 9]\n",
            "Pivot: 9\n",
            "Left Sub-array: [8, 7]\n",
            "Right Sub-array: []\n",
            "Pivot: 7\n",
            "Left Sub-array: []\n",
            "Right Sub-array: [8]\n",
            "Sorted array: [5, 6, 7, 8, 9, 10]\n"
          ]
        }
      ]
    }
  ]
}