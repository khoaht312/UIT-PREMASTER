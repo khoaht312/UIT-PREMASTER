{
  "nbformat": 4,
  "nbformat_minor": 0,
  "metadata": {
    "colab": {
      "provenance": [],
      "authorship_tag": "ABX9TyMN8Y4jN+vsj1O5mlfnxGFv",
      "include_colab_link": true
    },
    "kernelspec": {
      "name": "python3",
      "display_name": "Python 3"
    },
    "language_info": {
      "name": "python"
    }
  },
  "cells": [
    {
      "cell_type": "markdown",
      "metadata": {
        "id": "view-in-github",
        "colab_type": "text"
      },
      "source": [
        "<a href=\"https://colab.research.google.com/github/khoaht312/UIT-PREMASTER/blob/main/DBS/Databases.ipynb\" target=\"_parent\"><img src=\"https://colab.research.google.com/assets/colab-badge.svg\" alt=\"Open In Colab\"/></a>"
      ]
    },
    {
      "cell_type": "code",
      "execution_count": null,
      "metadata": {
        "id": "6ZiS8YiU6Moe"
      },
      "outputs": [],
      "source": []
    },
    {
      "cell_type": "markdown",
      "source": [
        "**Các mô hình dữ liệu**\n",
        "- Mô hình dữ liệu\n",
        "- Mô hình dữ liệu mạng\n",
        "- Mô hình dữ liệu phân cấp\n",
        "- Mô hình thực thể mối kết hợp\n",
        "- Mô hình dữ liệu quan hệ*\n",
        "- Mô hình dữ liệu hướng đối tượng"
      ],
      "metadata": {
        "id": "CQQ6IzFX61ku"
      }
    },
    {
      "cell_type": "markdown",
      "source": [
        "# **Mô hình dữ liệu quan hệ**\n",
        "1. Thuộc tính (Attribute)\n",
        "- Mô tả đặc trưng, tính chất riêng biệt của đối tượng cần được lưu trữ trong CSDL.\n",
        "-**Tên gọi**: dãy ký tự\n",
        "-**kiểu dữ liệu**: Số, chuỗi, ...\n",
        "-**Miền giá trị**: Dom(TenThuocTinh).\n",
        "Vd: Dom(GioiTinh) = ('Nam','Nu').\n",
        "\n",
        "2.Quan hệ (Relation).\n",
        "- Quan hệ là một tập hữu hạn các thuộc tính.\n",
        "- Quan hệ $R$ có $n$ ngôi được định nghĩa trên tập thuộc tính $R(A_1, A_2,...,A_n)$ và kèm theo một tân từ để xác định mối quan hệ giữa các thuộc tính $A_j$.\n",
        "- Ký hiệu $R(A_1,A_2,...,A_n)$\n",
        "- $R$: Tên quan hệ\n",
        "- $R^+ = (A_1, A_2,...,A_n)$: Tập thuộc tính của $R$.\n",
        "\n",
        "Vd: **SinhVien**(MaSV,HoTen,GioiTinh,MaLop).\n",
        "\n",
        "3. Bộ giá trị (Tuple).\n",
        "\n",
        "- Là các thông tin của một đối tượng thuộc quan hệ.\n",
        "- Còn được gọi mẫu tin (record), dòng (row).\n",
        "-Một bộ của quan hệ $R(A_1,A_2,...,A_n)$ là $r=(a_1,a_2,...,a_n)$ với $∀a_j∈DOM(A_j)$\n",
        "\n",
        "4. Thể hiện của quan hệ\n",
        "\n",
        "- Là tập hợp các bộ giá trị của quan hệ tại một thời điểm\n",
        "- Ký hiệu: $T_R$\n",
        "\n",
        "5. Tân từ\n",
        "- Là một quy tắc dùng để mô tả một quan hệ.\n",
        "- Làm rõ ngữ nghĩa, sự liên hệ giữa các thuộc tính trong quan hệ.\n",
        "\n",
        "- Ký hiệu: $||R||$\n",
        "\n",
        "\n",
        "6. Phép chiếu\n",
        "- **Chiếu của một quan hệ lên tập thuộc tính**:\n",
        "- Dùng để trích giá trị của một số thuộc tính trogn danh sách các thuộc tính của quan hệ.\n",
        "- Ký hiệu: $R[X]$ hoặc $R.X$ - Phép chiếu của quan hệ $R$ lên tập thuộc tính $X$.\n",
        "\n",
        "- **Chiếu của một bộ lên tập thuộc tính**:\n",
        "- Trích chọn các giá trị cụ thể của một bộ theo các thuộc tính đưuọc chỉ ra trong danh sách thuộc tính của một quan hệ.\n",
        "- Ký hiệu: $t_R[X]$ - Chiếu của một bộ giá trị $t$ lên tập thuộc tính $X$ của quan hệ $R$.\n",
        "\n",
        "7. Khóa\n",
        "\n",
        "7.1 Siêu khóa (Super Key).\n",
        "- Siêu khóa $SK$ là một tập con các thuộc tính cảu $R^+$ mà giá trị của chúng có thể phân biệt 2 bộ khác nhau trong một thể hiện $T_R$ bất kỳ.\n",
        "- $∀t_1,t_2 ∈ T_R, t1[SK] ≠ t_2[SK] ⟺ SK$ là siêu khóa của R.\n",
        "\n",
        "- Một quan hệ luôn có ít nhất một siêu khóa $(R^+)$ và có thể có nhiều siêu khóa.\n",
        "\n",
        "7.2 Khóa (key)\n",
        "\n",
        "- $K$ là khóa của quan hệ $R$ khi thỏa mãn 2 điều kiện:\n",
        "- $K$ là một siêu khóa\n",
        "-$K$ là siêu khóa nhỏ nhất (chứa ít thuộc tính nhất và khác rỗng):\n",
        "- $¬∃ K_1 \\subset K,K_1 ≠ ∅:K_1 $ là siêu khóa.\n",
        "- Thuộc tính tham gia và một khóa gọi là thuộc tính khóa.\n",
        "\n",
        "7.3 Khóa chính (Primary Key).\n",
        "- Khi thiết kế CSDL, nếu quan hệ có nhiều hơn một khóa, ta chỉ được chọn một và gọi là khóa chính.\n",
        "\n",
        "7.4 Khóa tương đương\n",
        "- Các khóa còn lại gọi là khóa tương đương (không chọn làm khóa chính).\n",
        "\n",
        "7.5 Khóa ngoại (Foreign Key).\n",
        "- Cho 2 quan hệ $R(U),S(V)$ với $K_1 ⊆ U$ và là khóa chính của $R,K_2 ⊆V$.\n",
        "- khi đó $K_2$ là khóa ngoại của $S$ tham chiếu đến khóa chính $K_1$ của $R$ nếu thỏa mãn:\n",
        "- $K_1$ và $K_2$ có cùng số lượng thuộc tính và ngữ nghĩa của các thuộc tính trong $K_1$ và $K_2$ giống nhau.\n",
        "- Giữa $R$ và $S$ tồn tại một mối quan hệ 1-n trên $K_1$ và $K_2$.\n",
        "- $∀s∈S,!∃r∈R: r.K_1 = s.K_2$\n",
        "\n",
        "8. Lược đồ quan hệ\n",
        "- Lược đồ quan hệ mô tả cấu trúc của một quan hệ và các mối liên hệ giữa các thuộc tính trong quan hệ đó.\n",
        "- Cấu trúc của một quan hệ là tập thuộc tính của quan hệ đó.\n",
        "\n",
        "9. Lược đồ CSDL (bao gồm nhiều LĐQH).\n",
        "\n",
        "\n"
      ],
      "metadata": {
        "id": "KtI-NmNz7MWs"
      }
    },
    {
      "cell_type": "markdown",
      "source": [
        "**Ánh xạ mô hình ER thành mô hình quan hệ**\n",
        "\n",
        "Bước 1: Ánh xạ các loại thực thể chuyên biệt hóa, tổng quát\n",
        "hóa (nếu có) về dạng thường\n",
        "- Bước 2: Ánh xạ tất cả loại thực thể thành quan hệ\n",
        "- Bước 3: Ánh xạ các mối kết hợp:\n",
        "• Mối kết hợp 1 – n: (1, 1)/(0, 1) – (1, n)/(0, n)\n",
        "• Mối kết hợp n – n: (1, n)/(0, n) – (1, n)/(0, n)\n",
        "- Bước 4: Chuẩn hóa các quan hệ\n",
        "\n",
        "**Trường hợp 1**: Mức chuyên biệt hóa **Không có thuộc tính riêng** $\\to$ Gom lên mức tổng quan hóa và bổ sung thêm thuộc tính $Loai$ và các ràng buộc toàn vẹn.\n",
        "\n",
        "**Trường hợp 2**: Mức chuyên biệt hóa **có ít thuộc tính riêng** $\\to$ Gom lên mức tổng quan, bổ sung thêm thuộc tính $Loai$ và ràng buộc toàn vẹn.\n",
        "\n",
        "Bước 2: Ánh xạ loại thực thể\n",
        "\n",
        "Bước 3: Ánh xạn các mối kết hợp\n",
        "\n",
        "**Trường hợp 1**: mối kết hợp $1-n$ $\\to$ Lấy khóa chính của bên $n$ về làm thuộc tính khóa ngoại của bên 1.\n",
        "\n",
        "**Trường hợp 2**: Mối kết hợp $n-n$ $\\to$ Tạo quan hệ mới (Tên qquan hệ, Thuộc tính, Khóa chính).\n",
        "\n",
        "Bước 4: Chuẩn hóa các quan hệ.\n",
        "\n",
        "\n"
      ],
      "metadata": {
        "id": "ROEQFVH1AV-x"
      }
    },
    {
      "cell_type": "markdown",
      "source": [
        "# **Đại số quan hệ (Relational Algebra)**"
      ],
      "metadata": {
        "id": "xtm9GZzlBsw0"
      }
    },
    {
      "cell_type": "markdown",
      "source": [
        "**Phép chọn**:\n",
        "- Chọn ra các dòng (bộ) trong quan hệ thỏa điều kiện:\n",
        "- $σ_P(R) = {t|t∈R ∧ P(t)}$\n",
        "- $R$: quan hệ\n",
        "- $P$: Điều kiện\n",
        "\n",
        "Ví dụ: $σ_{Luong>500000}(NHANVIEN)$\n",
        "\n",
        "**Phép chiếu**:\n",
        "- Chiếu ra các cột (thuộc tính) trong quan hệ:\n",
        "-$Π_{A_1,A_2,...,A_n} (R)$\n",
        "\n",
        "ví dụ: $Π_{MaNV,HoTen}(NHANVIEN)$\n",
        "\n",
        "$Π_{MaDA,TenDA,Phong}σ_(DdiemDa='Tp.HCM')(DEAN)$\n",
        "\n",
        "**Phép đổi tên**:\n",
        "- $QuanHeMoi ← QuanHeCu$\n",
        "\n",
        "**Phép tích Đề các**\n",
        "- Với $R(A_1,A_2,...,A_n)$ và $(S(B_1,B_2,...,B_m)$\n",
        "- $R × S = {tq|t∈R ∧ q∈S}$\n",
        "\n",
        "**Phép kết Theta-join**\n",
        "\n",
        "\n",
        "**Phép Hội, Giao, Trừ, Chia**\n",
        "\n",
        "**Hàm tính toán**"
      ],
      "metadata": {
        "id": "3LktX_AfByLb"
      }
    }
  ]
}