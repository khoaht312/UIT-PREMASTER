{
  "nbformat": 4,
  "nbformat_minor": 0,
  "metadata": {
    "colab": {
      "provenance": [],
      "authorship_tag": "ABX9TyM99d7LRR0RtpgsQylfbf/K",
      "include_colab_link": true
    },
    "kernelspec": {
      "name": "python3",
      "display_name": "Python 3"
    },
    "language_info": {
      "name": "python"
    }
  },
  "cells": [
    {
      "cell_type": "markdown",
      "metadata": {
        "id": "view-in-github",
        "colab_type": "text"
      },
      "source": [
        "<a href=\"https://colab.research.google.com/github/khoaht312/UIT-PREMASTER/blob/main/IT003/I_Python_Primer.ipynb\" target=\"_parent\"><img src=\"https://colab.research.google.com/assets/colab-badge.svg\" alt=\"Open In Colab\"/></a>"
      ]
    },
    {
      "cell_type": "markdown",
      "source": [
        "**CET** (Common Exception Types)\n",
        "\n",
        "|Class|Description|\n",
        "|--|--|\n",
        "|Exception| A base class for most error types\n",
        "|AttributeError| Raised by syntax obj.foo, if obj has no member named foo\n",
        "|EOFError |Raised if “end of file” reached for console or file input\n",
        "|IOError |Raised upon failure of I/O operation (e.g., opening file)\n",
        "|IndexError| Raised if index to sequence is out of bounds\n",
        "|KeyError |Raised if nonexistent key requested for set or dictionary\n",
        "|KeyboardInterrupt |Raised if user types ctrl-C while program is executing\n",
        "|NameError |Raised if nonexistent identifier used\n",
        "|StopIteration |Raised by next(iterator) if no element; see Section 1.8\n",
        "|TypeError |Raised when wrong type of parameter is sent to a function\n",
        "|ValueError |Raised when parameter has invalid value (e.g., sqrt(−5))\n",
        "|ZeroDivisionError |Raised when any division operator used with 0 as divisor"
      ],
      "metadata": {
        "id": "e_O41z3hQXSy"
      }
    },
    {
      "cell_type": "markdown",
      "source": [
        "**Raising an Exception**"
      ],
      "metadata": {
        "id": "D9iCVKOfMOA6"
      }
    },
    {
      "cell_type": "code",
      "source": [
        "def CheckValidStudentID(x):\n",
        "  if not isinstance(x,(str)):\n",
        "    raise TypeError('Student ID must be string')\n",
        "  elif len(x) != 8 or int(x[:2]) < 7 or x[2:4] != '52':\n",
        "    return ValueError('Student ID not is Valid')\n",
        "  else:\n",
        "    return x\n",
        "\n",
        "CheckValidStudentID('06520918')\n"
      ],
      "metadata": {
        "colab": {
          "base_uri": "https://localhost:8080/"
        },
        "id": "Y1jWIAJCMPqi",
        "outputId": "7548a563-c723-4a60-ae3c-aaf761407210"
      },
      "execution_count": 1,
      "outputs": [
        {
          "output_type": "execute_result",
          "data": {
            "text/plain": [
              "ValueError('Student ID not is Valid')"
            ]
          },
          "metadata": {},
          "execution_count": 1
        }
      ]
    },
    {
      "cell_type": "markdown",
      "source": [
        "**Catching an Exception**"
      ],
      "metadata": {
        "id": "PMmUAU4rPvMF"
      }
    },
    {
      "cell_type": "code",
      "source": [
        "age = -1\n",
        "while age <=0:\n",
        "  try:\n",
        "    age = int(input('Enter your age in years: '))\n",
        "    if age <= 0:\n",
        "      print('Your age must be positive')\n",
        "  except(ValueError,EOFError):\n",
        "    print('Invalid response')"
      ],
      "metadata": {
        "colab": {
          "base_uri": "https://localhost:8080/"
        },
        "id": "wg3YGxClOCfo",
        "outputId": "8f5e3581-2d38-451f-c658-aea756b78e2a"
      },
      "execution_count": 2,
      "outputs": [
        {
          "name": "stdout",
          "output_type": "stream",
          "text": [
            "Enter your age in years: -1\n",
            "Your age must be positive\n",
            "Enter your age in years: 100\n"
          ]
        }
      ]
    },
    {
      "cell_type": "markdown",
      "source": [
        "**Conditional Expressions**"
      ],
      "metadata": {
        "id": "UbVKSBO2Q3kF"
      }
    },
    {
      "cell_type": "code",
      "source": [
        "n = 100\n",
        "factors = [k for k in range(1,n) if n % k == 0]\n",
        "print(factors)"
      ],
      "metadata": {
        "colab": {
          "base_uri": "https://localhost:8080/"
        },
        "id": "-K-hWgkVQ4Wt",
        "outputId": "988e7d58-b224-4246-9fe1-8ed95d93811d"
      },
      "execution_count": 3,
      "outputs": [
        {
          "output_type": "stream",
          "name": "stdout",
          "text": [
            "[1, 2, 4, 5, 10, 20, 25, 50]\n"
          ]
        }
      ]
    },
    {
      "cell_type": "code",
      "source": [
        "total = sum(k*k for k in range(1, 5)) #1+4+9+16\n",
        "print(total)"
      ],
      "metadata": {
        "colab": {
          "base_uri": "https://localhost:8080/"
        },
        "id": "CPW5fyP3RzFc",
        "outputId": "a4db2f15-7827-4eb2-8e72-5261c5080192"
      },
      "execution_count": 4,
      "outputs": [
        {
          "output_type": "stream",
          "name": "stdout",
          "text": [
            "30\n"
          ]
        }
      ]
    },
    {
      "cell_type": "markdown",
      "source": [
        "**Packing and Unpacking of Sequences**"
      ],
      "metadata": {
        "id": "RtVAv-sHSHZX"
      }
    },
    {
      "cell_type": "code",
      "source": [
        "a, b, c, d = range(7, 11)\n",
        "print(a,b,c,d)"
      ],
      "metadata": {
        "colab": {
          "base_uri": "https://localhost:8080/"
        },
        "id": "9zgUCt5dSB3m",
        "outputId": "62715477-f082-4ba3-9cbf-81cf290b31ba"
      },
      "execution_count": 5,
      "outputs": [
        {
          "output_type": "stream",
          "name": "stdout",
          "text": [
            "7 8 9 10\n"
          ]
        }
      ]
    },
    {
      "cell_type": "code",
      "source": [
        "quotient, remainder = divmod(10,5)\n",
        "print(quotient, remainder)"
      ],
      "metadata": {
        "colab": {
          "base_uri": "https://localhost:8080/"
        },
        "id": "Krb4aOVhSSpQ",
        "outputId": "7ce35388-5ccf-4abd-94ee-1565cc1b03f6"
      },
      "execution_count": 6,
      "outputs": [
        {
          "output_type": "stream",
          "name": "stdout",
          "text": [
            "2 0\n"
          ]
        }
      ]
    },
    {
      "cell_type": "markdown",
      "source": [
        "**Simultaneous Assignments**"
      ],
      "metadata": {
        "id": "abbMUq8_S6YT"
      }
    },
    {
      "cell_type": "code",
      "source": [
        "def fibonacci():\n",
        "  a, b = 0,1\n",
        "  while True:\n",
        "    yield a\n",
        "    a, b = b, a+b\n",
        "\n",
        "fib_gen = fibonacci()\n",
        "\n",
        "for _ in range(10):\n",
        "    print(next(fib_gen))"
      ],
      "metadata": {
        "colab": {
          "base_uri": "https://localhost:8080/"
        },
        "id": "Yfp_qGeOS7LP",
        "outputId": "eeb041b2-dd1d-4143-b8b8-514a3e2e87a6"
      },
      "execution_count": 7,
      "outputs": [
        {
          "output_type": "stream",
          "name": "stdout",
          "text": [
            "0\n",
            "1\n",
            "1\n",
            "2\n",
            "3\n",
            "5\n",
            "8\n",
            "13\n",
            "21\n",
            "34\n"
          ]
        }
      ]
    },
    {
      "cell_type": "markdown",
      "source": [
        "**Existing Modules**\n",
        "\n",
        "|Module| Name Description\n",
        "|--|--|\n",
        "|array| Provides compact array storage for primitive types.\n",
        "|collections| Defines additional data structures and abstract base classes\n",
        "|involving |collections of objects.\n",
        "|copy |Defines general functions for making copies of objects.\n",
        "|heapq |Provides heap-based priority queue functions (see Section 9.3.7).\n",
        "|math |Defines common mathematical constants and functions.\n",
        "|os |Provides support for interactions with the operating system.\n",
        "|random |Provides random number generation.\n",
        "|re |Provides support for processing regular expressions.\n",
        "|sys |Provides additional level of interaction with the Python interpreter.\n",
        "|time |Provides support for measuring time, or delaying a program"
      ],
      "metadata": {
        "id": "7kjUm46NT7W8"
      }
    },
    {
      "cell_type": "markdown",
      "source": [
        "**Exercises**"
      ],
      "metadata": {
        "id": "cXoSdfjuUXjP"
      }
    },
    {
      "cell_type": "markdown",
      "source": [
        "What parameters should be sent to the range constructor, to produce a\n",
        "range with values 8, 6, 4, 2, 0, −2, −4, −6, −8?"
      ],
      "metadata": {
        "id": "J0GxphK4Ue6R"
      }
    },
    {
      "cell_type": "code",
      "source": [
        "my_range = [x for x in range(8, -10, -2)]\n",
        "print(my_range)\n"
      ],
      "metadata": {
        "colab": {
          "base_uri": "https://localhost:8080/"
        },
        "id": "A0JYaqI-UefA",
        "outputId": "2ed4bb8c-bad6-417e-97f8-c13baf6db85a"
      },
      "execution_count": 8,
      "outputs": [
        {
          "output_type": "stream",
          "name": "stdout",
          "text": [
            "[8, 6, 4, 2, 0, -2, -4, -6, -8]\n"
          ]
        }
      ]
    },
    {
      "cell_type": "markdown",
      "source": [
        "Demonstrate how to use Python’s list comprehension syntax to produce\n",
        "the list [1, 2, 4, 8, 16, 32, 64, 128, 256]."
      ],
      "metadata": {
        "id": "67fBl5HvWHW-"
      }
    },
    {
      "cell_type": "code",
      "source": [
        "powers = [2**x for x in range(1,9)] # 2^1, 2^2, 2^3, ... 2^8\n",
        "print(powers)"
      ],
      "metadata": {
        "colab": {
          "base_uri": "https://localhost:8080/"
        },
        "id": "hR43WupBWGyF",
        "outputId": "5849d5c7-55c9-4687-87b9-37743a98fce7"
      },
      "execution_count": 12,
      "outputs": [
        {
          "output_type": "stream",
          "name": "stdout",
          "text": [
            "[2, 4, 8, 16, 32, 64, 128, 256]\n"
          ]
        }
      ]
    },
    {
      "cell_type": "markdown",
      "source": [
        "Demonstrate how to use Python’s list comprehension syntax to produce\n",
        "the list [0, 2, 6, 12, 20, 30, 42, 56, 72, 90]"
      ],
      "metadata": {
        "id": "dm-4KOj3XEgj"
      }
    },
    {
      "cell_type": "code",
      "source": [
        "# Using list comprehension to generate the desired list\n",
        "result_list = [i * (i - 1) for i in range(1,11)]\n",
        "print(result_list)\n"
      ],
      "metadata": {
        "colab": {
          "base_uri": "https://localhost:8080/"
        },
        "id": "_77TFAUBWqwC",
        "outputId": "55c4e05f-19c8-4a00-c97e-31bdf900e856"
      },
      "execution_count": 23,
      "outputs": [
        {
          "output_type": "stream",
          "name": "stdout",
          "text": [
            "[0, 2, 6, 12, 20, 30, 42, 56, 72, 90]\n"
          ]
        }
      ]
    },
    {
      "cell_type": "markdown",
      "source": [
        "Write a Python program that inputs a list of words, separated by white-space, and outputs how many times each word appears in the list."
      ],
      "metadata": {
        "id": "bBE81oEJXkxU"
      }
    },
    {
      "cell_type": "code",
      "source": [
        "words_input = input(\"Enter a list of words separated by white-space: \")\n",
        "words_list = words_input.split()\n",
        "word_counts = {}\n",
        "for word in words_list:\n",
        "    if word in word_counts:\n",
        "        word_counts[word] += 1\n",
        "    else:\n",
        "        word_counts[word] = 1\n",
        "print(\"Word counts:\")\n",
        "for word, count in word_counts.items():\n",
        "    print(f\"'{word}' appears {count} times.\")"
      ],
      "metadata": {
        "colab": {
          "base_uri": "https://localhost:8080/"
        },
        "id": "Hs9C9ak1WyiZ",
        "outputId": "8add64ef-f23b-4d1a-c03c-a06761076499"
      },
      "execution_count": 25,
      "outputs": [
        {
          "output_type": "stream",
          "name": "stdout",
          "text": [
            "Enter a list of words separated by white-space: Trường Đại Học Công Nghệ Thông Tin - ĐHQG TP.HCM, Trường Đại Học Khoa Học Tự Nhiên\n",
            "Word counts:\n",
            "'Trường' appears 2 times.\n",
            "'Đại' appears 2 times.\n",
            "'Học' appears 3 times.\n",
            "'Công' appears 1 times.\n",
            "'Nghệ' appears 1 times.\n",
            "'Thông' appears 1 times.\n",
            "'Tin' appears 1 times.\n",
            "'-' appears 1 times.\n",
            "'ĐHQG' appears 1 times.\n",
            "'TP.HCM,' appears 1 times.\n",
            "'Khoa' appears 1 times.\n",
            "'Tự' appears 1 times.\n",
            "'Nhiên' appears 1 times.\n"
          ]
        }
      ]
    }
  ]
}