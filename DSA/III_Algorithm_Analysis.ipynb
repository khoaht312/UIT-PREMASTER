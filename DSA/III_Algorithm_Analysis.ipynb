{
  "nbformat": 4,
  "nbformat_minor": 0,
  "metadata": {
    "colab": {
      "provenance": [],
      "authorship_tag": "ABX9TyPwl7xOgBQ3GEIkhNQF35uu",
      "include_colab_link": true
    },
    "kernelspec": {
      "name": "python3",
      "display_name": "Python 3"
    },
    "language_info": {
      "name": "python"
    }
  },
  "cells": [
    {
      "cell_type": "markdown",
      "metadata": {
        "id": "view-in-github",
        "colab_type": "text"
      },
      "source": [
        "<a href=\"https://colab.research.google.com/github/khoaht312/UIT-PREMASTER/blob/main/DSA/III_Algorithm_Analysis.ipynb\" target=\"_parent\"><img src=\"https://colab.research.google.com/assets/colab-badge.svg\" alt=\"Open In Colab\"/></a>"
      ]
    },
    {
      "cell_type": "code",
      "execution_count": null,
      "metadata": {
        "colab": {
          "base_uri": "https://localhost:8080/"
        },
        "id": "D0a8Diwj9xZ_",
        "outputId": "fb9f41ea-0d69-472f-ed97-8cfb31c87607"
      },
      "outputs": [
        {
          "output_type": "stream",
          "name": "stdout",
          "text": [
            "4\n",
            "time:  0.001995563507080078\n"
          ]
        }
      ],
      "source": [
        "from time import time\n",
        "start_time = time( ) # record the starting time\n",
        "a = [1,2,3,4]\n",
        "print(a[3])\n",
        "end_time = time() # record the ending time\n",
        "elapsed =end_time - start_time\n",
        "print(\"time: \",elapsed)"
      ]
    },
    {
      "cell_type": "markdown",
      "source": [
        "**Counting Primitive Operations**\n",
        "\n",
        "To analyze the running time of an algorithm without performing experiments, we\n",
        "perform an analysis directly on a high-level description of the algorithm (either in\n",
        "the form of an actual code fragment, or language-independent pseudo-code). We\n",
        "define a set of primitive operations such as the following:<br>\n",
        "\n",
        "• Assigning an identifier to an object\n",
        "\n",
        "• Determining the object associated with an identifier\n",
        "\n",
        "• Performing an arithmetic operation (for example, adding two numbers)\n",
        "\n",
        "• Comparing two numbers\n",
        "\n",
        "• Accessing a single element of a Python list by index\n",
        "\n",
        "• Calling a function (excluding operations executed within the function)\n",
        "\n",
        "• Returning from a function\n",
        "\n",
        "```\n",
        "function sum_of_list(arr)\n",
        "    total = 0                              // Assigning an identifier to an object (total)\n",
        "    for each element in arr:               // Looping through the list\n",
        "        total = total + element            // Performing an arithmetic operation (addition)\n",
        "    return total                           // Returning from a function\n",
        "```"
      ],
      "metadata": {
        "id": "nkwwss7i-3QV"
      }
    },
    {
      "cell_type": "markdown",
      "source": [
        "**The Constant Function**: $f(n) = c$\n",
        "\n",
        "**The Logarithm Function**: $f(n) = log_bn$\n",
        "\n",
        "**The Linear Function**: $f(n) = n$\n",
        "\n",
        "**The N-Log-N Function**: $f(n) = nlogn$\n",
        "\n",
        "**The Quadratic Function**: $f(n) = n^2$\n",
        "\n"
      ],
      "metadata": {
        "id": "PmFVbDq-nwoJ"
      }
    }
  ]
}