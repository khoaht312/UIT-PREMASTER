{
  "nbformat": 4,
  "nbformat_minor": 0,
  "metadata": {
    "colab": {
      "provenance": [],
      "authorship_tag": "ABX9TyMBNPDovjCIoLgC450UUxix",
      "include_colab_link": true
    },
    "kernelspec": {
      "name": "python3",
      "display_name": "Python 3"
    },
    "language_info": {
      "name": "python"
    }
  },
  "cells": [
    {
      "cell_type": "markdown",
      "metadata": {
        "id": "view-in-github",
        "colab_type": "text"
      },
      "source": [
        "<a href=\"https://colab.research.google.com/github/khoaht312/UIT-PREMASTER/blob/main/DSA/IV_Recursion.ipynb\" target=\"_parent\"><img src=\"https://colab.research.google.com/assets/colab-badge.svg\" alt=\"Open In Colab\"/></a>"
      ]
    },
    {
      "cell_type": "markdown",
      "source": [
        "**The Factorial Function**\n",
        "$n!$"
      ],
      "metadata": {
        "id": "CH-98YUWrYSZ"
      }
    },
    {
      "cell_type": "code",
      "execution_count": 68,
      "metadata": {
        "colab": {
          "base_uri": "https://localhost:8080/"
        },
        "id": "8ETM1NHakR1c",
        "outputId": "cc9eee39-8928-44e0-8ee6-ba9e821c453f"
      },
      "outputs": [
        {
          "output_type": "stream",
          "name": "stdout",
          "text": [
            "24\n"
          ]
        }
      ],
      "source": [
        "def factorial(n):\n",
        "  if n == 0:\n",
        "    return 1\n",
        "  else:\n",
        "    return n * factorial(n-1)\n",
        "\n",
        "print(factorial(4))"
      ]
    },
    {
      "cell_type": "code",
      "source": [
        "def draw_line(tick_length, tick_label=''):\n",
        "  line = \"-\" * tick_length\n",
        "  if tick_label:\n",
        "    line += ' ' + tick_label\n",
        "  print(line)\n",
        "\n",
        "def draw_interval(center_length):\n",
        "  if center_length > 0:\n",
        "    draw_interval(center_length - 1)\n",
        "    draw_line(center_length)\n",
        "    draw_interval(center_length - 1)\n",
        "\n",
        "def draw_ruler(num_inches, major_length):\n",
        "  draw_line(major_length, '0')\n",
        "  for i in range(1,1+num_inches):\n",
        "    draw_interval(major_length - 1)\n",
        "    draw_line(major_length,str(i))\n",
        "\n",
        "\n",
        "draw_ruler(5,3)\n"
      ],
      "metadata": {
        "colab": {
          "base_uri": "https://localhost:8080/"
        },
        "id": "cjdN478eks5U",
        "outputId": "25d61e39-d2b4-4f00-a298-cdc085c3ecd2"
      },
      "execution_count": 10,
      "outputs": [
        {
          "output_type": "stream",
          "name": "stdout",
          "text": [
            "--- 0\n",
            "-\n",
            "--\n",
            "-\n",
            "--- 1\n",
            "-\n",
            "--\n",
            "-\n",
            "--- 2\n",
            "-\n",
            "--\n",
            "-\n",
            "--- 3\n",
            "-\n",
            "--\n",
            "-\n",
            "--- 4\n",
            "-\n",
            "--\n",
            "-\n",
            "--- 5\n"
          ]
        }
      ]
    },
    {
      "cell_type": "markdown",
      "source": [
        "**Computing Fibonacci Numbers**\n",
        "\n",
        "$F_0 = 0$<br>\n",
        "$F_1 = 1$<br>\n",
        "$F_n = F_{n-2} + F_{n-1}$ for $n>1$"
      ],
      "metadata": {
        "id": "TDTQ8G3cnksD"
      }
    },
    {
      "cell_type": "code",
      "source": [
        "def good_fibo(n):\n",
        "  \"\"\"Return pair of Fibonacci numbers, F(n) and F(n-1).\"\"\"\n",
        "  if n <= 1:\n",
        "    return (n,0)\n",
        "  else:\n",
        "    (a,b) = good_fibo(n-1)\n",
        "    return (a+b,a)\n",
        "\n",
        "for i in range(10):\n",
        "  print(\"{}th Fibonacci number is: {} \".format(i,good_fibo(i)))"
      ],
      "metadata": {
        "colab": {
          "base_uri": "https://localhost:8080/"
        },
        "id": "1nKgNb05lukl",
        "outputId": "6cac4a39-585a-4d61-c800-5376b566d650"
      },
      "execution_count": 62,
      "outputs": [
        {
          "output_type": "stream",
          "name": "stdout",
          "text": [
            "0th Fibonacci number is: (0, 0) \n",
            "1th Fibonacci number is: (1, 0) \n",
            "2th Fibonacci number is: (1, 1) \n",
            "3th Fibonacci number is: (2, 1) \n",
            "4th Fibonacci number is: (3, 2) \n",
            "5th Fibonacci number is: (5, 3) \n",
            "6th Fibonacci number is: (8, 5) \n",
            "7th Fibonacci number is: (13, 8) \n",
            "8th Fibonacci number is: (21, 13) \n",
            "9th Fibonacci number is: (34, 21) \n"
          ]
        }
      ]
    }
  ]
}