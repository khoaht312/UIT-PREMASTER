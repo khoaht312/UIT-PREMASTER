{
  "nbformat": 4,
  "nbformat_minor": 0,
  "metadata": {
    "colab": {
      "provenance": [],
      "authorship_tag": "ABX9TyOqtzoExpoAMVbRimmhglOo",
      "include_colab_link": true
    },
    "kernelspec": {
      "name": "python3",
      "display_name": "Python 3"
    },
    "language_info": {
      "name": "python"
    }
  },
  "cells": [
    {
      "cell_type": "markdown",
      "metadata": {
        "id": "view-in-github",
        "colab_type": "text"
      },
      "source": [
        "<a href=\"https://colab.research.google.com/github/khoaht312/UIT-PREMASTER/blob/main/DSA/II_OOP.ipynb\" target=\"_parent\"><img src=\"https://colab.research.google.com/assets/colab-badge.svg\" alt=\"Open In Colab\"/></a>"
      ]
    },
    {
      "cell_type": "markdown",
      "source": [
        "**Object-Oriented Programing**"
      ],
      "metadata": {
        "id": "EwR0fUb10iyA"
      }
    },
    {
      "cell_type": "code",
      "source": [],
      "metadata": {
        "id": "_r5CxbBE0lfW"
      },
      "execution_count": null,
      "outputs": []
    },
    {
      "cell_type": "markdown",
      "source": [
        "**Example: CreditCard Class**"
      ],
      "metadata": {
        "id": "ziWzv6wI05rh"
      }
    },
    {
      "cell_type": "markdown",
      "source": [
        "**Class Definitions**"
      ],
      "metadata": {
        "id": "6chAba982fk-"
      }
    },
    {
      "cell_type": "code",
      "source": [
        "#from abc import ABC, abstractmethod\n",
        "class CreditCard:\n",
        "    \"\"\"A consumer credit card.\"\"\"\n",
        "\n",
        "    def __init__(self, customer, bank, acnt, limit):\n",
        "        \"\"\"Create a new credit card instance.\n",
        "\n",
        "        The initial balance is zero.\n",
        "\n",
        "        customer  the name of the customer (e.g., 'Travis Scott')\n",
        "        bank      the name of the bank (e.g., 'ACB')\n",
        "        acnt      the amount identifier (e.g., '1234 5679 9100')\n",
        "        limit     credit limit (measured in dollars)\n",
        "        \"\"\"\n",
        "        self._customer = customer\n",
        "        self._bank = bank\n",
        "        self._acnt = acnt\n",
        "        self._limit = limit\n",
        "        self._balance = 0\n",
        "\n",
        "    def get_customer(self):\n",
        "        \"\"\"Return name of the customer.\"\"\"\n",
        "        return self._customer\n",
        "\n",
        "    def get_bank(self):\n",
        "        \"\"\"Return the bank's name.\"\"\"\n",
        "        return self._bank\n",
        "\n",
        "    def get_account(self):\n",
        "        \"\"\"Return the card identifying number (string).\"\"\"\n",
        "        return self._acnt\n",
        "\n",
        "    def get_limit(self):\n",
        "        \"\"\"Return current credit limit.\"\"\"\n",
        "        return self._limit\n",
        "\n",
        "    def get_balance(self):\n",
        "        \"\"\"Return current balance.\"\"\"\n",
        "        return self._balance\n",
        "\n",
        "    def charge(self, price):\n",
        "        \"\"\"Charge given price to the card, assuming sufficient credit limit.\n",
        "\n",
        "        Return True if charge was processed; False if charge was denied.\n",
        "        \"\"\"\n",
        "        if price + self._balance > self._limit:\n",
        "            return False\n",
        "        else:\n",
        "            self._balance += price\n",
        "            return True\n",
        "\n",
        "    def make_payment(self, amount):\n",
        "        \"\"\"Process customer payment that reduces balance.\"\"\"\n",
        "        self._balance -= amount\n"
      ],
      "metadata": {
        "id": "i9GHENN707ph"
      },
      "execution_count": 38,
      "outputs": []
    },
    {
      "cell_type": "code",
      "source": [
        "class PredatoryCreditCard(CreditCard):\n",
        "    OVERLIMIT_FEE = 5\n",
        "    \"\"\"An extension to CreditCard that compounds interest and fees.\"\"\"\n",
        "    def __init__(self, customer, bank, acnt, limit, apr):\n",
        "        \"\"\" Create a new predatory credit card instance.\n",
        "\n",
        "        The initial blance is zero.\n",
        "\n",
        "        customer ...\n",
        "        ...\n",
        "        apr     annual percentage rate(e.g., 0.0825 for 8.25% APR)\n",
        "        \"\"\"\n",
        "        super().__init__(customer, bank, acnt, limit)\n",
        "        self._apr = apr\n",
        "\n",
        "    def charge(self, price):\n",
        "        \"\"\"Charge given price to the card, assuming sufficient credit limit.\n",
        "\n",
        "        Return True if cahrge was processed.\n",
        "        Return False and assess $5 fee if charge is denied.\n",
        "        \"\"\"\n",
        "        success = super().charge(price)\n",
        "        if not success:\n",
        "          self._balance += PredatoryCreditCard.OVERLIMIT_FEE\n",
        "        return success\n",
        "\n",
        "    def process_month(self):\n",
        "        \"\"\"Assess monthly interest on outstanding balance.\"\"\"\n",
        "        if self._balance >0:\n",
        "          #if positive balance, convert APR to monthly multiplicative factor\n",
        "          month_factor = pow(1 + self._apr, 1/12)\n",
        "          self._balance *= month_factor"
      ],
      "metadata": {
        "id": "A4jmNldx5EFx"
      },
      "execution_count": 20,
      "outputs": []
    },
    {
      "cell_type": "markdown",
      "source": [
        "**The Constructor**"
      ],
      "metadata": {
        "id": "NfN22X8o2ldG"
      }
    },
    {
      "cell_type": "code",
      "source": [
        "if __name__ == '__main__':\n",
        "  wallet = []\n",
        "  wallet.append(CreditCard('A','ABank','1234',1000))\n",
        "  wallet.append(CreditCard('B','BBank','2234',1000))\n",
        "  wallet.append(CreditCard('C','CBank','3234',1000))\n",
        "  for val in range(1,17):\n",
        "    wallet[0].charge(val)\n",
        "    wallet[1].charge(2*val)\n",
        "    wallet[2].charge(3*val)\n",
        "\n",
        "  for c in range(3):\n",
        "    print('Customer = ', wallet[c].get_customer())\n",
        "    print('Bank = ', wallet[c].get_bank())\n",
        "    print('Acount = ', wallet[c].get_account())\n",
        "    print('Limit = ', wallet[c].get_limit())\n",
        "    print('Balance =', wallet[c].get_balance())\n",
        "    while wallet[c].get_balance() > 100:\n",
        "      wallet[c].make_payment(100)\n",
        "      print('New balance = ', wallet[c].get_balance())\n",
        "    print()\n"
      ],
      "metadata": {
        "colab": {
          "base_uri": "https://localhost:8080/"
        },
        "id": "ACAy3u3n3FmL",
        "outputId": "b6a6670b-3b22-475d-fb37-1e57bd3fa07d"
      },
      "execution_count": 39,
      "outputs": [
        {
          "output_type": "stream",
          "name": "stdout",
          "text": [
            "Customer =  A\n",
            "Bank =  ABank\n",
            "Acount =  1234\n",
            "Limit =  1000\n",
            "Balance = 136\n",
            "New balance =  36\n",
            "\n",
            "Customer =  B\n",
            "Bank =  BBank\n",
            "Acount =  2234\n",
            "Limit =  1000\n",
            "Balance = 272\n",
            "New balance =  172\n",
            "New balance =  72\n",
            "\n",
            "Customer =  C\n",
            "Bank =  CBank\n",
            "Acount =  3234\n",
            "Limit =  1000\n",
            "Balance = 408\n",
            "New balance =  308\n",
            "New balance =  208\n",
            "New balance =  108\n",
            "New balance =  8\n",
            "\n"
          ]
        }
      ]
    }
  ]
}